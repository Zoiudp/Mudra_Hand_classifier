{
 "cells": [
  {
   "cell_type": "code",
   "execution_count": 26,
   "id": "922f7893",
   "metadata": {},
   "outputs": [
    {
     "name": "stdout",
     "output_type": "stream",
     "text": [
      "Using device: cuda\n",
      "Loaded dataset with 16 mudra entries\n"
     ]
    },
    {
     "data": {
      "application/vnd.jupyter.widget-view+json": {
       "model_id": "296f909cae7b451e80157f20180a6994",
       "version_major": 2,
       "version_minor": 0
      },
      "text/plain": [
       "tokenizer_config.json:   0%|          | 0.00/2.32k [00:00<?, ?B/s]"
      ]
     },
     "metadata": {},
     "output_type": "display_data"
    },
    {
     "name": "stderr",
     "output_type": "stream",
     "text": [
      "c:\\Users\\drodm\\AppData\\Local\\Programs\\Python\\Python312\\Lib\\site-packages\\huggingface_hub\\file_download.py:147: UserWarning: `huggingface_hub` cache-system uses symlinks by default to efficiently store duplicated files but your machine does not support them in C:\\Users\\drodm\\.cache\\huggingface\\hub\\models--t5-small. Caching files will still work but in a degraded version that might require more space on your disk. This warning can be disabled by setting the `HF_HUB_DISABLE_SYMLINKS_WARNING` environment variable. For more details, see https://huggingface.co/docs/huggingface_hub/how-to-cache#limitations.\n",
      "To support symlinks on Windows, you either need to activate Developer Mode or to run Python as an administrator. In order to activate developer mode, see this article: https://docs.microsoft.com/en-us/windows/apps/get-started/enable-your-device-for-development\n",
      "  warnings.warn(message)\n"
     ]
    },
    {
     "data": {
      "application/vnd.jupyter.widget-view+json": {
       "model_id": "492bacb5959c459d99007be204e1441e",
       "version_major": 2,
       "version_minor": 0
      },
      "text/plain": [
       "spiece.model:   0%|          | 0.00/792k [00:00<?, ?B/s]"
      ]
     },
     "metadata": {},
     "output_type": "display_data"
    },
    {
     "data": {
      "application/vnd.jupyter.widget-view+json": {
       "model_id": "3ec018c3c0bf45848d30f46616b6f1d7",
       "version_major": 2,
       "version_minor": 0
      },
      "text/plain": [
       "tokenizer.json:   0%|          | 0.00/1.39M [00:00<?, ?B/s]"
      ]
     },
     "metadata": {},
     "output_type": "display_data"
    },
    {
     "name": "stderr",
     "output_type": "stream",
     "text": [
      "You are using the default legacy behaviour of the <class 'transformers.models.t5.tokenization_t5.T5Tokenizer'>. This is expected, and simply means that the `legacy` (previous) behavior will be used so nothing changes for you. If you want to use the new behaviour, set `legacy=False`. This should only be set if you understand what it means, and thoroughly read the reason why this was added as explained in https://github.com/huggingface/transformers/pull/24565\n"
     ]
    },
    {
     "data": {
      "application/vnd.jupyter.widget-view+json": {
       "model_id": "ada7e89990804bfc9535c5489affb309",
       "version_major": 2,
       "version_minor": 0
      },
      "text/plain": [
       "config.json:   0%|          | 0.00/1.21k [00:00<?, ?B/s]"
      ]
     },
     "metadata": {},
     "output_type": "display_data"
    },
    {
     "data": {
      "application/vnd.jupyter.widget-view+json": {
       "model_id": "d8d28fd528904217a4e8334349b1ff50",
       "version_major": 2,
       "version_minor": 0
      },
      "text/plain": [
       "model.safetensors:   0%|          | 0.00/242M [00:00<?, ?B/s]"
      ]
     },
     "metadata": {},
     "output_type": "display_data"
    },
    {
     "data": {
      "application/vnd.jupyter.widget-view+json": {
       "model_id": "0ead6b1670b24caa8590304a2d9a4b04",
       "version_major": 2,
       "version_minor": 0
      },
      "text/plain": [
       "generation_config.json:   0%|          | 0.00/147 [00:00<?, ?B/s]"
      ]
     },
     "metadata": {},
     "output_type": "display_data"
    },
    {
     "name": "stderr",
     "output_type": "stream",
     "text": [
      "c:\\Users\\drodm\\AppData\\Local\\Programs\\Python\\Python312\\Lib\\site-packages\\transformers\\optimization.py:591: FutureWarning: This implementation of AdamW is deprecated and will be removed in a future version. Use the PyTorch implementation torch.optim.AdamW instead, or set `no_deprecation_warning=True` to disable this warning\n",
      "  warnings.warn(\n"
     ]
    },
    {
     "name": "stdout",
     "output_type": "stream",
     "text": [
      "Starting training...\n"
     ]
    },
    {
     "name": "stderr",
     "output_type": "stream",
     "text": [
      "Epoch 1/10 [Train]:   0%|          | 0/3 [00:00<?, ?it/s]Passing a tuple of `past_key_values` is deprecated and will be removed in Transformers v4.48.0. You should pass an instance of `EncoderDecoderCache` instead, e.g. `past_key_values=EncoderDecoderCache.from_legacy_cache(past_key_values)`.\n",
      "Epoch 1/10 [Train]: 100%|██████████| 3/3 [00:02<00:00,  1.04it/s, loss=8.96]\n",
      "Epoch 1/10 [Val]: 100%|██████████| 1/1 [00:00<00:00, 12.91it/s, loss=3.27]\n"
     ]
    },
    {
     "name": "stdout",
     "output_type": "stream",
     "text": [
      "Epoch 1/10\n",
      "  Train Loss: 7.0758\n",
      "  Val Loss: 3.2679\n",
      "  New best model saved to mudra_model\\best_model_epoch_1.pt\n"
     ]
    },
    {
     "name": "stderr",
     "output_type": "stream",
     "text": [
      "Epoch 2/10 [Train]: 100%|██████████| 3/3 [00:00<00:00,  3.22it/s, loss=5.94]\n",
      "Epoch 2/10 [Val]: 100%|██████████| 1/1 [00:00<00:00,  9.23it/s, loss=1.88]\n"
     ]
    },
    {
     "name": "stdout",
     "output_type": "stream",
     "text": [
      "Epoch 2/10\n",
      "  Train Loss: 6.4762\n",
      "  Val Loss: 1.8816\n",
      "  New best model saved to mudra_model\\best_model_epoch_2.pt\n"
     ]
    },
    {
     "name": "stderr",
     "output_type": "stream",
     "text": [
      "Epoch 3/10 [Train]: 100%|██████████| 3/3 [00:00<00:00,  3.69it/s, loss=6.23]\n",
      "Epoch 3/10 [Val]: 100%|██████████| 1/1 [00:00<00:00,  9.67it/s, loss=1.53]\n"
     ]
    },
    {
     "name": "stdout",
     "output_type": "stream",
     "text": [
      "Epoch 3/10\n",
      "  Train Loss: 5.1959\n",
      "  Val Loss: 1.5284\n",
      "  New best model saved to mudra_model\\best_model_epoch_3.pt\n"
     ]
    },
    {
     "name": "stderr",
     "output_type": "stream",
     "text": [
      "Epoch 4/10 [Train]: 100%|██████████| 3/3 [00:00<00:00,  3.97it/s, loss=3.97]\n",
      "Epoch 4/10 [Val]: 100%|██████████| 1/1 [00:00<00:00,  8.41it/s, loss=1.29]\n"
     ]
    },
    {
     "name": "stdout",
     "output_type": "stream",
     "text": [
      "Epoch 4/10\n",
      "  Train Loss: 4.2733\n",
      "  Val Loss: 1.2862\n",
      "  New best model saved to mudra_model\\best_model_epoch_4.pt\n"
     ]
    },
    {
     "name": "stderr",
     "output_type": "stream",
     "text": [
      "Epoch 5/10 [Train]: 100%|██████████| 3/3 [00:00<00:00,  4.14it/s, loss=4.21]\n",
      "Epoch 5/10 [Val]: 100%|██████████| 1/1 [00:00<00:00, 14.12it/s, loss=1.17]\n"
     ]
    },
    {
     "name": "stdout",
     "output_type": "stream",
     "text": [
      "Epoch 5/10\n",
      "  Train Loss: 3.7431\n",
      "  Val Loss: 1.1724\n",
      "  New best model saved to mudra_model\\best_model_epoch_5.pt\n"
     ]
    },
    {
     "name": "stderr",
     "output_type": "stream",
     "text": [
      "Epoch 6/10 [Train]: 100%|██████████| 3/3 [00:00<00:00,  3.76it/s, loss=2.86]\n",
      "Epoch 6/10 [Val]: 100%|██████████| 1/1 [00:00<00:00, 13.34it/s, loss=1.13]\n"
     ]
    },
    {
     "name": "stdout",
     "output_type": "stream",
     "text": [
      "Epoch 6/10\n",
      "  Train Loss: 2.8980\n",
      "  Val Loss: 1.1253\n",
      "  New best model saved to mudra_model\\best_model_epoch_6.pt\n"
     ]
    },
    {
     "name": "stderr",
     "output_type": "stream",
     "text": [
      "Epoch 7/10 [Train]: 100%|██████████| 3/3 [00:00<00:00,  4.04it/s, loss=2.5] \n",
      "Epoch 7/10 [Val]: 100%|██████████| 1/1 [00:00<00:00, 13.54it/s, loss=1.1]\n"
     ]
    },
    {
     "name": "stdout",
     "output_type": "stream",
     "text": [
      "Epoch 7/10\n",
      "  Train Loss: 3.1161\n",
      "  Val Loss: 1.1047\n",
      "  New best model saved to mudra_model\\best_model_epoch_7.pt\n"
     ]
    },
    {
     "name": "stderr",
     "output_type": "stream",
     "text": [
      "Epoch 8/10 [Train]: 100%|██████████| 3/3 [00:00<00:00,  4.06it/s, loss=2.54]\n",
      "Epoch 8/10 [Val]: 100%|██████████| 1/1 [00:00<00:00, 10.76it/s, loss=1.09]\n"
     ]
    },
    {
     "name": "stdout",
     "output_type": "stream",
     "text": [
      "Epoch 8/10\n",
      "  Train Loss: 2.8957\n",
      "  Val Loss: 1.0948\n",
      "  New best model saved to mudra_model\\best_model_epoch_8.pt\n"
     ]
    },
    {
     "name": "stderr",
     "output_type": "stream",
     "text": [
      "Epoch 9/10 [Train]: 100%|██████████| 3/3 [00:00<00:00,  3.88it/s, loss=2.86]\n",
      "Epoch 9/10 [Val]: 100%|██████████| 1/1 [00:00<00:00, 14.29it/s, loss=1.09]\n"
     ]
    },
    {
     "name": "stdout",
     "output_type": "stream",
     "text": [
      "Epoch 9/10\n",
      "  Train Loss: 3.0438\n",
      "  Val Loss: 1.0905\n",
      "  New best model saved to mudra_model\\best_model_epoch_9.pt\n"
     ]
    },
    {
     "name": "stderr",
     "output_type": "stream",
     "text": [
      "Epoch 10/10 [Train]: 100%|██████████| 3/3 [00:00<00:00,  4.21it/s, loss=3.69]\n",
      "Epoch 10/10 [Val]: 100%|██████████| 1/1 [00:00<00:00, 14.48it/s, loss=1.09]\n"
     ]
    },
    {
     "name": "stdout",
     "output_type": "stream",
     "text": [
      "Epoch 10/10\n",
      "  Train Loss: 3.1666\n",
      "  Val Loss: 1.0891\n",
      "  New best model saved to mudra_model\\best_model_epoch_10.pt\n",
      "Final model saved to mudra_model\\final_model.pt\n",
      "\n",
      "Generating example recitations:\n"
     ]
    },
    {
     "name": "stderr",
     "output_type": "stream",
     "text": [
      "c:\\Users\\drodm\\AppData\\Local\\Programs\\Python\\Python312\\Lib\\site-packages\\transformers\\generation\\configuration_utils.py:676: UserWarning: `num_beams` is set to 1. However, `early_stopping` is set to `True` -- this flag is only used in beam-based generation modes. You should set `num_beams>1` or unset `early_stopping`.\n",
      "  warnings.warn(\n"
     ]
    },
    {
     "name": "stdout",
     "output_type": "stream",
     "text": [
      "\n",
      "Mudra: Abhaya Mudra\n",
      "Focus: Invoke fearlessness and protective energy\n",
      "Generated: Mudra: Abhaya Mudra: Abhaya Mudra: Abhaya Mudra: Abhaya Mudra: Abhaya Mudra: Abhaya Mudra, Focus: Invoke fearlessness and protective energy\n",
      "Original: Monk: The fearless heart protects all beings. Let courage arise in you now.\n",
      "\n",
      "Mudra: Dhyana Mudra\n",
      "Focus: Deepen concentration and mental stillness\n",
      "Generated: Mudra: Dhyana Mudra: Dhyana Mudra, Focus: Dhyana Mudra: Dhyana Mudra: Dhyana Mudra: Dhyana Mudra: Dhyana Mudra, Focus: Deepen concentration and mental stillness\n",
      "Original: Monk: In stillness the lotus of awareness opens. Breathe into presence.\n",
      "\n",
      "Mudra: Jñāna Mudra\n",
      "Focus: Open to wisdom and insight\n",
      "Generated: Mudra: Jna Mudra: Jna Mudra, Focus: Open to wisdom and insight\n",
      "Original: Monk: Wisdom’s lamp shines within; let it illuminate your path.\n"
     ]
    }
   ],
   "source": [
    "import torch\n",
    "import torch.nn as nn\n",
    "import pandas as pd\n",
    "import numpy as np\n",
    "from torch.utils.data import Dataset, DataLoader\n",
    "from sklearn.model_selection import train_test_split\n",
    "from transformers import BertTokenizer, BertForSequenceClassification, AdamW, get_linear_schedule_with_warmup\n",
    "from transformers import T5Tokenizer, T5ForConditionalGeneration\n",
    "import os\n",
    "import matplotlib.pyplot as plt\n",
    "from tqdm import tqdm\n",
    "\n",
    "# Check if GPU is available\n",
    "device = torch.device('cuda' if torch.cuda.is_available() else 'cpu')\n",
    "print(f\"Using device: {device}\")\n",
    "\n",
    "# Read the mudra dataset\n",
    "def load_data(file_path='Mudra_Recitation_dataset.csv'):\n",
    "    df = pd.read_csv(file_path)\n",
    "    print(f\"Loaded dataset with {len(df)} mudra entries\")\n",
    "    return df\n",
    "\n",
    "# Custom dataset class for the mudra data\n",
    "class MudraDataset(Dataset):\n",
    "    def __init__(self, texts, labels, tokenizer, max_length=128):\n",
    "        self.texts = texts\n",
    "        self.labels = labels\n",
    "        self.tokenizer = tokenizer\n",
    "        self.max_length = max_length\n",
    "        \n",
    "    def __len__(self):\n",
    "        return len(self.texts)\n",
    "    \n",
    "    def __getitem__(self, idx):\n",
    "        text = str(self.texts[idx])\n",
    "        label = str(self.labels[idx])\n",
    "        \n",
    "        encoding = self.tokenizer(\n",
    "            text,\n",
    "            text_pair=None,\n",
    "            add_special_tokens=True,\n",
    "            max_length=self.max_length,\n",
    "            padding='max_length',\n",
    "            truncation=True,\n",
    "            return_attention_mask=True,\n",
    "            return_tensors='pt'\n",
    "        )\n",
    "        \n",
    "        target_encoding = self.tokenizer(\n",
    "            label,\n",
    "            add_special_tokens=True,\n",
    "            max_length=self.max_length,\n",
    "            padding='max_length',\n",
    "            truncation=True,\n",
    "            return_attention_mask=True,\n",
    "            return_tensors='pt'\n",
    "        )\n",
    "        \n",
    "        return {\n",
    "            'input_ids': encoding['input_ids'].flatten(),\n",
    "            'attention_mask': encoding['attention_mask'].flatten(),\n",
    "            'labels': target_encoding['input_ids'].flatten(),\n",
    "            'decoder_attention_mask': target_encoding['attention_mask'].flatten()\n",
    "        }\n",
    "\n",
    "# Function to prepare dataloaders\n",
    "def prepare_dataloaders(df, tokenizer, batch_size=4, max_length=128, test_size=0.2):\n",
    "    # Combine mudra name and meditation focus as input\n",
    "    texts = df.apply(lambda row: f\"Mudra: {row['mudra_name']}, Focus: {row['meditation_focus']}\", axis=1).values\n",
    "    labels = df['recitation'].values\n",
    "    \n",
    "    # Split data into train and validation sets\n",
    "    train_texts, val_texts, train_labels, val_labels = train_test_split(\n",
    "        texts, labels, test_size=test_size, random_state=42\n",
    "    )\n",
    "    \n",
    "    # Create datasets\n",
    "    train_dataset = MudraDataset(train_texts, train_labels, tokenizer, max_length)\n",
    "    val_dataset = MudraDataset(val_texts, val_labels, tokenizer, max_length)\n",
    "    \n",
    "    # Create dataloaders\n",
    "    train_dataloader = DataLoader(\n",
    "        train_dataset,\n",
    "        batch_size=batch_size,\n",
    "        shuffle=True\n",
    "    )\n",
    "    \n",
    "    val_dataloader = DataLoader(\n",
    "        val_dataset,\n",
    "        batch_size=batch_size,\n",
    "        shuffle=False\n",
    "    )\n",
    "    \n",
    "    return train_dataloader, val_dataloader\n",
    "\n",
    "# Training function\n",
    "def train_model(model, train_dataloader, val_dataloader, optimizer, scheduler, epochs=10, \n",
    "                eval_every=1, save_path='mudra_model'):\n",
    "    \n",
    "    # Create directory for saving model\n",
    "    os.makedirs(save_path, exist_ok=True)\n",
    "    \n",
    "    # For tracking metrics\n",
    "    train_losses = []\n",
    "    val_losses = []\n",
    "    best_val_loss = float('inf')\n",
    "    \n",
    "    # Training loop\n",
    "    for epoch in range(epochs):\n",
    "        model.train()\n",
    "        total_train_loss = 0\n",
    "        \n",
    "        # Progress bar for training\n",
    "        train_progress = tqdm(train_dataloader, desc=f\"Epoch {epoch+1}/{epochs} [Train]\")\n",
    "        \n",
    "        for batch in train_progress:\n",
    "            # Move batch to device\n",
    "            input_ids = batch['input_ids'].to(device)\n",
    "            attention_mask = batch['attention_mask'].to(device)\n",
    "            labels = batch['labels'].to(device)\n",
    "            decoder_attention_mask = batch['decoder_attention_mask'].to(device)\n",
    "            \n",
    "            # Clear gradients\n",
    "            model.zero_grad()\n",
    "            \n",
    "            # Forward pass\n",
    "            outputs = model(\n",
    "                input_ids=input_ids,\n",
    "                attention_mask=attention_mask,\n",
    "                labels=labels,\n",
    "                decoder_attention_mask=decoder_attention_mask\n",
    "            )\n",
    "            \n",
    "            loss = outputs.loss\n",
    "            total_train_loss += loss.item()\n",
    "            \n",
    "            # Backward pass\n",
    "            loss.backward()\n",
    "            \n",
    "            # Clip gradients to prevent exploding gradients\n",
    "            torch.nn.utils.clip_grad_norm_(model.parameters(), max_norm=1.0)\n",
    "            \n",
    "            # Update weights\n",
    "            optimizer.step()\n",
    "            scheduler.step()\n",
    "            \n",
    "            # Update progress bar\n",
    "            train_progress.set_postfix({'loss': loss.item()})\n",
    "        \n",
    "        # Calculate average training loss\n",
    "        avg_train_loss = total_train_loss / len(train_dataloader)\n",
    "        train_losses.append(avg_train_loss)\n",
    "        \n",
    "        # Evaluate model if it's evaluation time\n",
    "        if (epoch + 1) % eval_every == 0:\n",
    "            model.eval()\n",
    "            total_val_loss = 0\n",
    "            \n",
    "            # Progress bar for validation\n",
    "            val_progress = tqdm(val_dataloader, desc=f\"Epoch {epoch+1}/{epochs} [Val]\")\n",
    "            \n",
    "            with torch.no_grad():\n",
    "                for batch in val_progress:\n",
    "                    # Move batch to device\n",
    "                    input_ids = batch['input_ids'].to(device)\n",
    "                    attention_mask = batch['attention_mask'].to(device)\n",
    "                    labels = batch['labels'].to(device)\n",
    "                    decoder_attention_mask = batch['decoder_attention_mask'].to(device)\n",
    "                    \n",
    "                    # Forward pass\n",
    "                    outputs = model(\n",
    "                        input_ids=input_ids,\n",
    "                        attention_mask=attention_mask,\n",
    "                        labels=labels,\n",
    "                        decoder_attention_mask=decoder_attention_mask\n",
    "                    )\n",
    "                    \n",
    "                    loss = outputs.loss\n",
    "                    total_val_loss += loss.item()\n",
    "                    \n",
    "                    # Update progress bar\n",
    "                    val_progress.set_postfix({'loss': loss.item()})\n",
    "            \n",
    "            # Calculate average validation loss\n",
    "            avg_val_loss = total_val_loss / len(val_dataloader)\n",
    "            val_losses.append(avg_val_loss)\n",
    "            \n",
    "            # Print loss metrics\n",
    "            print(f\"Epoch {epoch+1}/{epochs}\")\n",
    "            print(f\"  Train Loss: {avg_train_loss:.4f}\")\n",
    "            print(f\"  Val Loss: {avg_val_loss:.4f}\")\n",
    "            \n",
    "            # Save model if it's the best so far\n",
    "            if avg_val_loss < best_val_loss:\n",
    "                best_val_loss = avg_val_loss\n",
    "                model_path = os.path.join(save_path, f\"best_model_epoch_{epoch+1}.pt\")\n",
    "                torch.save(model.state_dict(), model_path)\n",
    "                print(f\"  New best model saved to {model_path}\")\n",
    "        \n",
    "    # Save the final model\n",
    "    final_model_path = os.path.join(save_path, \"final_model.pt\")\n",
    "    torch.save(model.state_dict(), final_model_path)\n",
    "    print(f\"Final model saved to {final_model_path}\")\n",
    "    \n",
    "    # Plot loss metrics\n",
    "    plt.figure(figsize=(10, 6))\n",
    "    plt.plot(range(1, epochs+1), train_losses, 'b-', label='Training Loss')\n",
    "    plt.plot([i * eval_every for i in range(1, len(val_losses)+1)], val_losses, 'r-', label='Validation Loss')\n",
    "    plt.xlabel('Epochs')\n",
    "    plt.ylabel('Loss')\n",
    "    plt.title('Training and Validation Loss')\n",
    "    plt.legend()\n",
    "    plt.grid(True)\n",
    "    plt.savefig(os.path.join(save_path, 'loss_plot.png'))\n",
    "    plt.close()\n",
    "    \n",
    "    return train_losses, val_losses\n",
    "\n",
    "# Function to generate recitations using the trained model\n",
    "def generate_recitation(model, tokenizer, mudra_name, meditation_focus=None, max_length=100):\n",
    "    model.eval()\n",
    "    \n",
    "    # Prepare input text\n",
    "    if meditation_focus:\n",
    "        input_text = f\"Mudra: {mudra_name}, Focus: {meditation_focus}\"\n",
    "    else:\n",
    "        input_text = f\"Mudra: {mudra_name}\"\n",
    "    \n",
    "    # Tokenize input\n",
    "    inputs = tokenizer(\n",
    "        input_text,\n",
    "        add_special_tokens=True,\n",
    "        return_tensors=\"pt\",\n",
    "        max_length=128,\n",
    "        padding='max_length',\n",
    "        truncation=True\n",
    "    )\n",
    "    \n",
    "    # Move to device\n",
    "    input_ids = inputs['input_ids'].to(device)\n",
    "    attention_mask = inputs['attention_mask'].to(device)\n",
    "    \n",
    "    # Generate output\n",
    "    output_ids = model.generate(\n",
    "        input_ids=input_ids,\n",
    "        attention_mask=attention_mask,\n",
    "        max_length=max_length,\n",
    "        num_return_sequences=1,\n",
    "        do_sample=True,\n",
    "        top_k=50,\n",
    "        top_p=0.95,\n",
    "        temperature=0.7,\n",
    "        repetition_penalty=1.2,\n",
    "        early_stopping=True\n",
    "    )\n",
    "    \n",
    "    # Decode output\n",
    "    generated_text = tokenizer.decode(output_ids[0], skip_special_tokens=True)\n",
    "    \n",
    "    return generated_text\n",
    "\n",
    "# Main function to run the entire process\n",
    "def main():\n",
    "    # Load data\n",
    "    df = load_data()\n",
    "    \n",
    "    # Initialize T5 tokenizer and model\n",
    "    model_name = \"t5-small\"  # You can use \"t5-base\" for better results\n",
    "    tokenizer = T5Tokenizer.from_pretrained(model_name)\n",
    "    model = T5ForConditionalGeneration.from_pretrained(model_name)\n",
    "    model.to(device)\n",
    "    \n",
    "    # Prepare dataloaders\n",
    "    train_dataloader, val_dataloader = prepare_dataloaders(df, tokenizer)\n",
    "    \n",
    "    # Set up optimizer and scheduler\n",
    "    optimizer = AdamW(model.parameters(), lr=5e-5)\n",
    "    total_steps = len(train_dataloader) * 10  # 10 epochs\n",
    "    scheduler = get_linear_schedule_with_warmup(\n",
    "        optimizer,\n",
    "        num_warmup_steps=0,\n",
    "        num_training_steps=total_steps\n",
    "    )\n",
    "    \n",
    "    # Train model\n",
    "    print(\"Starting training...\")\n",
    "    train_losses, val_losses = train_model(\n",
    "        model, \n",
    "        train_dataloader, \n",
    "        val_dataloader, \n",
    "        optimizer, \n",
    "        scheduler,\n",
    "        epochs=10\n",
    "    )\n",
    "    \n",
    "    # Generate some examples\n",
    "    print(\"\\nGenerating example recitations:\")\n",
    "    test_mudras = [\"Abhaya Mudra\", \"Dhyana Mudra\", \"Jñāna Mudra\"]\n",
    "    \n",
    "    for mudra in test_mudras:\n",
    "        meditation_focus = df[df['mudra_name'] == mudra]['meditation_focus'].values[0]\n",
    "        generated = generate_recitation(model, tokenizer, mudra, meditation_focus)\n",
    "        print(f\"\\nMudra: {mudra}\")\n",
    "        print(f\"Focus: {meditation_focus}\")\n",
    "        print(f\"Generated: {generated}\")\n",
    "        print(f\"Original: {df[df['mudra_name'] == mudra]['recitation'].values[0]}\")\n",
    "\n",
    "if __name__ == \"__main__\":\n",
    "    main()"
   ]
  },
  {
   "cell_type": "code",
   "execution_count": null,
   "id": "55385829",
   "metadata": {},
   "outputs": [],
   "source": []
  }
 ],
 "metadata": {
  "kernelspec": {
   "display_name": "Python 3",
   "language": "python",
   "name": "python3"
  },
  "language_info": {
   "codemirror_mode": {
    "name": "ipython",
    "version": 3
   },
   "file_extension": ".py",
   "mimetype": "text/x-python",
   "name": "python",
   "nbconvert_exporter": "python",
   "pygments_lexer": "ipython3",
   "version": "3.12.6"
  }
 },
 "nbformat": 4,
 "nbformat_minor": 5
}
